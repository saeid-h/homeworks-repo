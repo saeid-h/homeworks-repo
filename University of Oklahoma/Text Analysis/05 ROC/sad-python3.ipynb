{
 "cells": [
  {
   "cell_type": "code",
   "execution_count": 1,
   "metadata": {
    "collapsed": false,
    "deletable": true,
    "editable": true
   },
   "outputs": [
    {
     "name": "stderr",
     "output_type": "stream",
     "text": [
      "2017-03-21 20:01:57,470 INFO:P/R/ROC Now logging\n"
     ]
    }
   ],
   "source": [
    "import logging\n",
    "import sys\n",
    "\n",
    "log = logging.getLogger(\"P/R/ROC\")\n",
    "log.setLevel(logging.INFO)\n",
    "ch = logging.StreamHandler()\n",
    "ch.setLevel(logging.INFO)\n",
    "formatter = logging.Formatter(\"%(asctime)s %(levelname)s:%(name)s %(message)s\")\n",
    "ch.setFormatter(formatter)\n",
    "\n",
    "log.addHandler(ch)\n",
    "\n",
    "log.info(\"Now logging\")"
   ]
  },
  {
   "cell_type": "code",
   "execution_count": 2,
   "metadata": {
    "collapsed": false,
    "deletable": true,
    "editable": true
   },
   "outputs": [
    {
     "name": "stderr",
     "output_type": "stream",
     "text": [
      "2017-03-21 20:01:58,524 INFO:P/R/ROC pos: 56462, neg: 43538\n"
     ]
    }
   ],
   "source": [
    "# MAX_TWEETS = 1_578_628\n",
    "MAX_TWEETS = 100_001\n",
    "\n",
    "# http://www.cs.ou.edu/~cgrant/teaching/cs5970sp16/sad/sad.html\n",
    "\n",
    "import io\n",
    "feature_list = []\n",
    "with io.open(\"sad.thorn\", \"r\", encoding='utf-8') as source:\n",
    "    labels = []\n",
    "    for i,line in enumerate(source.readlines()):\n",
    "        if i == MAX_TWEETS: break\n",
    "        elif i == 0:\n",
    "            labels = line.split('þ')\n",
    "        else:\n",
    "            data = line.split('þ')\n",
    "            feature_list.append({'id': int(data[0]), \n",
    "                                 'label': '+' if (data[1] == '1') else '-',\n",
    "                                 'text' : data[2]})\n",
    "#print(feature_list[0:10])\n",
    "\n",
    "pos_tweets = [x for x in feature_list if x['label'] == '+']\n",
    "neg_tweets = [x for x in feature_list if x['label'] == '-']\n",
    "\n",
    "log.info(\"pos: {}, neg: {}\".format(len(pos_tweets), len(neg_tweets)))\n"
   ]
  },
  {
   "cell_type": "code",
   "execution_count": 3,
   "metadata": {
    "collapsed": false,
    "deletable": true,
    "editable": true
   },
   "outputs": [],
   "source": [
    "# Create big [({feature}, label)]\n",
    "import nltk\n",
    "from nltk import word_tokenize\n",
    "\n",
    "import collections\n",
    "import nltk.util\n",
    "from nltk.util import ngrams\n",
    "\n",
    "GRAM_SIZE = 1\n",
    "\n",
    "# postive feature list\n",
    "pos_features = []\n",
    "for item in pos_tweets:\n",
    "    for words in ngrams(word_tokenize(item['text']), GRAM_SIZE):\n",
    "        word = ' '.join(words)\n",
    "        pos_features.append({'feature': word})\n",
    "\n",
    "neg_features = []\n",
    "for item in neg_tweets:\n",
    "    for words in ngrams(word_tokenize(item['text']), GRAM_SIZE):\n",
    "        word = ' '.join(words)\n",
    "        neg_features.append({'feature': word})\n",
    "\n",
    "# Remove stop words\n",
    "from nltk.corpus import stopwords\n",
    "stopwords = stopwords.words('english')\n",
    "#print(stopwords)\n",
    "\n",
    "# TODO filter tweets by stopwords\n",
    "pos_features = [x for x in pos_features if x[\"feature\"] not in stopwords]\n",
    "neg_features = [x for x in neg_features if x[\"feature\"] not in stopwords]\n"
   ]
  },
  {
   "cell_type": "code",
   "execution_count": 4,
   "metadata": {
    "collapsed": true,
    "deletable": true,
    "editable": true
   },
   "outputs": [],
   "source": [
    "import random\n",
    "from random import shuffle\n",
    "\n",
    "SPLIT = 0.75\n",
    "\n",
    "shuffle(pos_features)\n",
    "shuffle(neg_features)\n",
    "\n",
    "POS_TRAIN_SIZE = int(len(pos_features) * SPLIT)\n",
    "NEG_TRAIN_SIZE = int(len(neg_features) * SPLIT)\n",
    "\n",
    "train_set = [(feat, '+') for feat in pos_features[:POS_TRAIN_SIZE]]\n",
    "train_set += [(feat, '-') for feat in neg_features[:NEG_TRAIN_SIZE]]\n",
    "\n",
    "test_set = [(feat, '+') for feat in pos_features[POS_TRAIN_SIZE:]]\n",
    "test_set += [(feat, '-') for feat in neg_features[NEG_TRAIN_SIZE:]]\n",
    "\n",
    "shuffle(test_set)\n",
    "shuffle(train_set)"
   ]
  },
  {
   "cell_type": "markdown",
   "metadata": {
    "deletable": true,
    "editable": true
   },
   "source": [
    "### Naive Bayes Classifier"
   ]
  },
  {
   "cell_type": "code",
   "execution_count": 5,
   "metadata": {
    "collapsed": false,
    "deletable": true,
    "editable": true
   },
   "outputs": [
    {
     "name": "stderr",
     "output_type": "stream",
     "text": [
      "2017-03-21 20:02:31,957 INFO:P/R/ROC Training NB\n",
      "2017-03-21 20:02:34,154 INFO:P/R/ROC Finished Training NB. classes: ['+', '-']\n"
     ]
    }
   ],
   "source": [
    "from nltk.classify import NaiveBayesClassifier\n",
    "\n",
    "log.info(\"Training NB\")\n",
    "nb_classifier = NaiveBayesClassifier.train(train_set)\n",
    "log.info(\"Finished Training NB. classes: {}\".format(nb_classifier.labels()))\n"
   ]
  },
  {
   "cell_type": "markdown",
   "metadata": {
    "deletable": true,
    "editable": true
   },
   "source": [
    "### Decision Tree Classifier"
   ]
  },
  {
   "cell_type": "code",
   "execution_count": 6,
   "metadata": {
    "collapsed": false,
    "deletable": true,
    "editable": true
   },
   "outputs": [
    {
     "name": "stderr",
     "output_type": "stream",
     "text": [
      "2017-03-21 20:02:34,161 INFO:P/R/ROC Training DT\n"
     ]
    },
    {
     "ename": "KeyboardInterrupt",
     "evalue": "",
     "output_type": "error",
     "traceback": [
      "\u001b[0;31m---------------------------------------------------------------------------\u001b[0m",
      "\u001b[0;31mKeyboardInterrupt\u001b[0m                         Traceback (most recent call last)",
      "\u001b[0;32m<ipython-input-6-2ed8c7eef75b>\u001b[0m in \u001b[0;36m<module>\u001b[0;34m()\u001b[0m\n\u001b[1;32m      2\u001b[0m \u001b[0;34m\u001b[0m\u001b[0m\n\u001b[1;32m      3\u001b[0m \u001b[0mlog\u001b[0m\u001b[0;34m.\u001b[0m\u001b[0minfo\u001b[0m\u001b[0;34m(\u001b[0m\u001b[0;34m\"Training DT\"\u001b[0m\u001b[0;34m)\u001b[0m\u001b[0;34m\u001b[0m\u001b[0m\n\u001b[0;32m----> 4\u001b[0;31m \u001b[0mdt_classifier\u001b[0m \u001b[0;34m=\u001b[0m \u001b[0mDecisionTreeClassifier\u001b[0m\u001b[0;34m.\u001b[0m\u001b[0mtrain\u001b[0m\u001b[0;34m(\u001b[0m\u001b[0mtrain_set\u001b[0m\u001b[0;34m)\u001b[0m\u001b[0;34m\u001b[0m\u001b[0m\n\u001b[0m\u001b[1;32m      5\u001b[0m \u001b[0mlog\u001b[0m\u001b[0;34m.\u001b[0m\u001b[0minfo\u001b[0m\u001b[0;34m(\u001b[0m\u001b[0;34m\"Finished Training DT. classes: {}\"\u001b[0m\u001b[0;34m.\u001b[0m\u001b[0mformat\u001b[0m\u001b[0;34m(\u001b[0m\u001b[0mdt_classifier\u001b[0m\u001b[0;34m.\u001b[0m\u001b[0mlabels\u001b[0m\u001b[0;34m(\u001b[0m\u001b[0;34m)\u001b[0m\u001b[0;34m)\u001b[0m\u001b[0;34m)\u001b[0m\u001b[0;34m\u001b[0m\u001b[0m\n",
      "\u001b[0;32m/usr/local/lib/python3.6/site-packages/nltk/classify/decisiontree.py\u001b[0m in \u001b[0;36mtrain\u001b[0;34m(labeled_featuresets, entropy_cutoff, depth_cutoff, support_cutoff, binary, feature_values, verbose)\u001b[0m\n\u001b[1;32m    159\u001b[0m         \u001b[0;31m# Refine the stump.\u001b[0m\u001b[0;34m\u001b[0m\u001b[0;34m\u001b[0m\u001b[0m\n\u001b[1;32m    160\u001b[0m         tree.refine(labeled_featuresets, entropy_cutoff, depth_cutoff-1,\n\u001b[0;32m--> 161\u001b[0;31m                     support_cutoff, binary, feature_values, verbose)\n\u001b[0m\u001b[1;32m    162\u001b[0m \u001b[0;34m\u001b[0m\u001b[0m\n\u001b[1;32m    163\u001b[0m         \u001b[0;31m# Return it\u001b[0m\u001b[0;34m\u001b[0m\u001b[0;34m\u001b[0m\u001b[0m\n",
      "\u001b[0;32m/usr/local/lib/python3.6/site-packages/nltk/classify/decisiontree.py\u001b[0m in \u001b[0;36mrefine\u001b[0;34m(self, labeled_featuresets, entropy_cutoff, depth_cutoff, support_cutoff, binary, feature_values, verbose)\u001b[0m\n\u001b[1;32m    193\u001b[0m         \u001b[0;32mfor\u001b[0m \u001b[0mfval\u001b[0m \u001b[0;32min\u001b[0m \u001b[0mself\u001b[0m\u001b[0;34m.\u001b[0m\u001b[0m_decisions\u001b[0m\u001b[0;34m:\u001b[0m\u001b[0;34m\u001b[0m\u001b[0m\n\u001b[1;32m    194\u001b[0m             fval_featuresets = [(featureset, label) for (featureset, label)\n\u001b[0;32m--> 195\u001b[0;31m                                 \u001b[0;32min\u001b[0m \u001b[0mlabeled_featuresets\u001b[0m\u001b[0;34m\u001b[0m\u001b[0m\n\u001b[0m\u001b[1;32m    196\u001b[0m                                 if featureset.get(self._fname) == fval]\n\u001b[1;32m    197\u001b[0m \u001b[0;34m\u001b[0m\u001b[0m\n",
      "\u001b[0;32m/usr/local/lib/python3.6/site-packages/nltk/classify/decisiontree.py\u001b[0m in \u001b[0;36m<listcomp>\u001b[0;34m(.0)\u001b[0m\n\u001b[1;32m    192\u001b[0m         \u001b[0;32mif\u001b[0m \u001b[0mdepth_cutoff\u001b[0m \u001b[0;34m<=\u001b[0m \u001b[0;36m0\u001b[0m\u001b[0;34m:\u001b[0m \u001b[0;32mreturn\u001b[0m\u001b[0;34m\u001b[0m\u001b[0m\n\u001b[1;32m    193\u001b[0m         \u001b[0;32mfor\u001b[0m \u001b[0mfval\u001b[0m \u001b[0;32min\u001b[0m \u001b[0mself\u001b[0m\u001b[0;34m.\u001b[0m\u001b[0m_decisions\u001b[0m\u001b[0;34m:\u001b[0m\u001b[0;34m\u001b[0m\u001b[0m\n\u001b[0;32m--> 194\u001b[0;31m             fval_featuresets = [(featureset, label) for (featureset, label)\n\u001b[0m\u001b[1;32m    195\u001b[0m                                 \u001b[0;32min\u001b[0m \u001b[0mlabeled_featuresets\u001b[0m\u001b[0;34m\u001b[0m\u001b[0m\n\u001b[1;32m    196\u001b[0m                                 if featureset.get(self._fname) == fval]\n",
      "\u001b[0;31mKeyboardInterrupt\u001b[0m: "
     ]
    }
   ],
   "source": [
    "from nltk.classify import DecisionTreeClassifier\n",
    "\n",
    "log.info(\"Training DT\")\n",
    "dt_classifier = DecisionTreeClassifier.train(train_set)\n",
    "log.info(\"Finished Training DT. classes: {}\".format(dt_classifier.labels()))\n"
   ]
  },
  {
   "cell_type": "markdown",
   "metadata": {
    "deletable": true,
    "editable": true
   },
   "source": [
    "### MaxentClassifier"
   ]
  },
  {
   "cell_type": "code",
   "execution_count": 7,
   "metadata": {
    "collapsed": false,
    "deletable": true,
    "editable": true
   },
   "outputs": [
    {
     "name": "stderr",
     "output_type": "stream",
     "text": [
      "2017-03-22 09:37:08,368 INFO:P/R/ROC Training M\n"
     ]
    },
    {
     "name": "stdout",
     "output_type": "stream",
     "text": [
      "  ==> Training (100 iterations)\n",
      "\n",
      "      Iteration    Log Likelihood    Accuracy\n",
      "      ---------------------------------------\n",
      "             1          -0.69315        0.438\n",
      "             2          -0.59092        0.654\n",
      "             3          -0.57451        0.654\n",
      "             4          -0.56479        0.654\n",
      "             5          -0.55836        0.654\n",
      "             6          -0.55380        0.654\n",
      "             7          -0.55039        0.654\n",
      "             8          -0.54774        0.654\n",
      "             9          -0.54563        0.654\n",
      "            10          -0.54391        0.654\n",
      "            11          -0.54248        0.654\n",
      "            12          -0.54127        0.654\n",
      "            13          -0.54023        0.654\n",
      "            14          -0.53933        0.654\n",
      "            15          -0.53854        0.654\n",
      "            16          -0.53785        0.654\n",
      "            17          -0.53724        0.654\n",
      "            18          -0.53669        0.654\n",
      "            19          -0.53619        0.654\n",
      "            20          -0.53574        0.654\n",
      "            21          -0.53534        0.654\n",
      "            22          -0.53497        0.654\n",
      "            23          -0.53463        0.654\n",
      "            24          -0.53431        0.654\n",
      "            25          -0.53403        0.654\n",
      "            26          -0.53376        0.654\n",
      "            27          -0.53351        0.654\n",
      "            28          -0.53328        0.654\n",
      "            29          -0.53306        0.654\n",
      "            30          -0.53286        0.654\n",
      "            31          -0.53267        0.654\n",
      "            32          -0.53250        0.654\n",
      "            33          -0.53233        0.654\n",
      "            34          -0.53217        0.654\n",
      "            35          -0.53202        0.654\n",
      "            36          -0.53188        0.654\n",
      "            37          -0.53175        0.654\n",
      "            38          -0.53162        0.654\n",
      "            39          -0.53150        0.654\n",
      "            40          -0.53139        0.654\n",
      "            41          -0.53128        0.654\n",
      "            42          -0.53118        0.654\n",
      "            43          -0.53108        0.654\n",
      "            44          -0.53098        0.654\n",
      "            45          -0.53089        0.654\n",
      "            46          -0.53081        0.654\n",
      "            47          -0.53072        0.654\n",
      "            48          -0.53065        0.654\n",
      "            49          -0.53057        0.654\n",
      "            50          -0.53050        0.654\n",
      "            51          -0.53043        0.654\n",
      "            52          -0.53036        0.654\n",
      "            53          -0.53029        0.654\n",
      "            54          -0.53023        0.654\n",
      "            55          -0.53017        0.654\n",
      "            56          -0.53011        0.654\n",
      "            57          -0.53005        0.654\n",
      "            58          -0.53000        0.654\n",
      "            59          -0.52995        0.654\n",
      "            60          -0.52990        0.654\n",
      "            61          -0.52985        0.654\n",
      "            62          -0.52980        0.654\n",
      "            63          -0.52975        0.654\n",
      "            64          -0.52971        0.654\n",
      "            65          -0.52966        0.654\n",
      "            66          -0.52962        0.654\n",
      "            67          -0.52958        0.654\n",
      "            68          -0.52954        0.654\n",
      "            69          -0.52950        0.654\n",
      "            70          -0.52946        0.654\n",
      "            71          -0.52943        0.654\n",
      "            72          -0.52939        0.654\n",
      "            73          -0.52936        0.654\n",
      "            74          -0.52932        0.654\n",
      "            75          -0.52929        0.654\n",
      "            76          -0.52926        0.654\n",
      "            77          -0.52923        0.654\n",
      "            78          -0.52920        0.654\n",
      "            79          -0.52917        0.654\n",
      "            80          -0.52914        0.654\n",
      "            81          -0.52911        0.654\n",
      "            82          -0.52908        0.654\n",
      "            83          -0.52906        0.654\n",
      "            84          -0.52903        0.654\n",
      "            85          -0.52901        0.654\n",
      "            86          -0.52898        0.654\n",
      "            87          -0.52896        0.654\n",
      "            88          -0.52893        0.654\n",
      "            89          -0.52891        0.654\n",
      "            90          -0.52889        0.654\n",
      "            91          -0.52886        0.654\n",
      "            92          -0.52884        0.654\n",
      "            93          -0.52882        0.654\n",
      "            94          -0.52880        0.654\n",
      "            95          -0.52878        0.654\n",
      "            96          -0.52876        0.654\n",
      "            97          -0.52874        0.654\n",
      "            98          -0.52872        0.654\n",
      "            99          -0.52870        0.654\n"
     ]
    },
    {
     "name": "stderr",
     "output_type": "stream",
     "text": [
      "2017-03-22 11:18:43,912 INFO:P/R/ROC Finished Training M. classes: ['-', '+']\n"
     ]
    },
    {
     "name": "stdout",
     "output_type": "stream",
     "text": [
      "         Final          -0.52868        0.654\n"
     ]
    }
   ],
   "source": [
    "from nltk.classify import MaxentClassifier\n",
    "\n",
    "log.info(\"Training M\")\n",
    "m_classifier = MaxentClassifier.train(train_set)\n",
    "log.info(\"Finished Training M. classes: {}\".format(m_classifier.labels()))"
   ]
  },
  {
   "cell_type": "markdown",
   "metadata": {
    "deletable": true,
    "editable": true
   },
   "source": [
    "### Get precision recall f1 measure of each (http://scikit-learn.org/stable/modules/generated/sklearn.metrics.precision_recall_fscore_support.html)"
   ]
  },
  {
   "cell_type": "code",
   "execution_count": 8,
   "metadata": {
    "collapsed": false,
    "deletable": true,
    "editable": true
   },
   "outputs": [],
   "source": [
    "import sklearn\n",
    "import sklearn.metrics\n",
    "from sklearn.metrics import precision_recall_fscore_support\n",
    "\n",
    "import numpy as np\n",
    "from operator import itemgetter\n",
    "\n",
    "def prfs(classify, test_set):\n",
    "    truth = np.array([b for (a,b) in test_set])\n",
    "    prediction = np.array([classify(a) for (a,b) in test_set])\n",
    "    return precision_recall_fscore_support(truth, prediction)"
   ]
  },
  {
   "cell_type": "markdown",
   "metadata": {
    "deletable": true,
    "editable": true
   },
   "source": [
    "### Run the Naive Bayes Classier"
   ]
  },
  {
   "cell_type": "code",
   "execution_count": 9,
   "metadata": {
    "collapsed": false,
    "deletable": true,
    "editable": true
   },
   "outputs": [
    {
     "name": "stderr",
     "output_type": "stream",
     "text": [
      "2017-03-22 11:24:29,577 INFO:P/R/ROC nb precision: [ 0.60902948  0.57620809]\n",
      "2017-03-22 11:24:29,578 INFO:P/R/ROC nb recall: [ 0.81051475  0.33117012]\n",
      "2017-03-22 11:24:29,581 INFO:P/R/ROC nb f1: [ 0.69547305  0.42060278]\n"
     ]
    }
   ],
   "source": [
    "p,r,f1,_ = prfs(nb_classifier.classify, test_set)\n",
    "log.info(\"nb precision: {}\".format(p))\n",
    "log.info(\"nb recall: {}\".format(r))\n",
    "log.info(\"nb f1: {}\".format(f1))"
   ]
  },
  {
   "cell_type": "markdown",
   "metadata": {
    "deletable": true,
    "editable": true
   },
   "source": [
    "### Plotting the ROC curve (http://blog.yhat.com/posts/roc-curves.html)"
   ]
  },
  {
   "cell_type": "code",
   "execution_count": 10,
   "metadata": {
    "collapsed": false,
    "deletable": true,
    "editable": true
   },
   "outputs": [],
   "source": [
    "from sklearn.metrics import roc_curve\n",
    "from sklearn.metrics import auc\n",
    "import pandas as pd\n",
    "import ggplot\n",
    "from ggplot import aes\n",
    "from ggplot import geom_abline\n",
    "from ggplot import geom_line\n",
    "from ggplot import ggplot\n",
    "from ggplot import ggtitle\n",
    "import matplotlib.pyplot as plt\n",
    "\n",
    "# An iPython directive for inline graphs\n",
    "%matplotlib inline \n",
    "\n",
    "def plus2one(x): return 1 if x == '+' else 0\n",
    "\n",
    "def plot(classify, test_set):\n",
    "    truth = [plus2one(b) for (a,b) in test_set]\n",
    "    data = [plus2one(classify(a)) for (a,b) in test_set]\n",
    "    fpr, tpr, thresholds = roc_curve(truth, data, drop_intermediate=False)\n",
    "    roc_auc = auc(fpr, tpr)\n",
    "    \n",
    "    df = pd.DataFrame(dict(fpr=fpr, tpr=tpr))\n",
    "    g = ggplot(df, aes(x='fpr', y='tpr' )) + geom_line() + geom_abline(linetype='dashed')\n",
    "    g += ggtitle(\"ROC Curve: AUC({})\".format(roc_auc))\n",
    "    return g\n",
    "\n",
    "def matplot(classify, test_set):\n",
    "    truth = [plus2one(b) for (a,b) in test_set]\n",
    "    data = [plus2one(classify(a)) for (a,b) in test_set]\n",
    "    fpr, tpr, thresholds = roc_curve(truth, data, drop_intermediate=False)\n",
    "    \n",
    "    roc_auc = auc(fpr, tpr)\n",
    "    plt.plot(fpr, tpr, label='ROC curve (area = %0.2f)' % roc_auc)\n",
    "    plt.xlabel('False Positive Rate')\n",
    "    plt.ylabel('True Positive Rate')\n",
    "    plt.legend(loc=\"lower right\")\n",
    "    return plt"
   ]
  },
  {
   "cell_type": "code",
   "execution_count": 13,
   "metadata": {
    "collapsed": false,
    "deletable": true,
    "editable": true
   },
   "outputs": [
    {
     "data": {
      "image/png": "[encoded data removed]",
      "text/plain": [
       "<matplotlib.figure.Figure at 0x1316a3278>"
      ]
     },
     "metadata": {},
     "output_type": "display_data"
    },
    {
     "data": {
      "text/plain": [
       "<ggplot: (320277708)>"
      ]
     },
     "execution_count": 13,
     "metadata": {},
     "output_type": "execute_result"
    }
   ],
   "source": [
    "plot(nb_classifier.classify, test_set)"
   ]
  },
  {
   "cell_type": "markdown",
   "metadata": {
    "deletable": true,
    "editable": true
   },
   "source": [
    "### Run the Decision Tree Classifier"
   ]
  },
  {
   "cell_type": "code",
   "execution_count": null,
   "metadata": {
    "collapsed": false,
    "deletable": true,
    "editable": true
   },
   "outputs": [],
   "source": [
    "p,r,f1,_ = prfs(dt_classifier.classify, test_set)\n",
    "log.info(\"dt precision: {}\".format(p))\n",
    "log.info(\"dt recall: {}\".format(r))\n",
    "log.info(\"dt f1: {}\".format(f1))"
   ]
  },
  {
   "cell_type": "code",
   "execution_count": null,
   "metadata": {
    "collapsed": false,
    "deletable": true,
    "editable": true
   },
   "outputs": [],
   "source": [
    "plot(dt_classifier.classify, test_set)"
   ]
  },
  {
   "cell_type": "markdown",
   "metadata": {
    "deletable": true,
    "editable": true
   },
   "source": [
    "### Run the Maxent Classifier"
   ]
  },
  {
   "cell_type": "code",
   "execution_count": 11,
   "metadata": {
    "collapsed": false,
    "deletable": true,
    "editable": true
   },
   "outputs": [
    {
     "name": "stderr",
     "output_type": "stream",
     "text": [
      "2017-03-22 11:24:40,572 INFO:P/R/ROC m precision: [ 0.61546108  0.53321895]\n",
      "2017-03-22 11:24:40,573 INFO:P/R/ROC m recall: [ 0.70407625  0.43453146]\n",
      "2017-03-22 11:24:40,574 INFO:P/R/ROC m f1: [ 0.65679313  0.47884332]\n"
     ]
    }
   ],
   "source": [
    "p,r,f1,_ = prfs(m_classifier.classify, test_set)\n",
    "log.info(\"m precision: {}\".format(p))\n",
    "log.info(\"m recall: {}\".format(r))\n",
    "log.info(\"m f1: {}\".format(f1))"
   ]
  },
  {
   "cell_type": "code",
   "execution_count": 12,
   "metadata": {
    "collapsed": false,
    "deletable": true,
    "editable": true
   },
   "outputs": [
    {
     "data": {
      "image/png": "[encoded data removed]",
      "text/plain": [
       "<matplotlib.figure.Figure at 0x12ddccfd0>"
      ]
     },
     "metadata": {},
     "output_type": "display_data"
    },
    {
     "data": {
      "text/plain": [
       "<ggplot: (-9223372036538259452)>"
      ]
     },
     "execution_count": 12,
     "metadata": {},
     "output_type": "execute_result"
    }
   ],
   "source": [
    "plot(m_classifier.classify, test_set)"
   ]
  },
  {
   "cell_type": "code",
   "execution_count": null,
   "metadata": {
    "collapsed": true,
    "deletable": true,
    "editable": true
   },
   "outputs": [],
   "source": []
  }
 ],
 "metadata": {
  "kernelspec": {
   "display_name": "Python 3",
   "language": "python",
   "name": "python3"
  },
  "language_info": {
   "codemirror_mode": {
    "name": "ipython",
    "version": 3
   },
   "file_extension": ".py",
   "mimetype": "text/x-python",
   "name": "python",
   "nbconvert_exporter": "python",
   "pygments_lexer": "ipython3",
   "version": "3.6.0"
  }
 },
 "nbformat": 4,
 "nbformat_minor": 2
}
